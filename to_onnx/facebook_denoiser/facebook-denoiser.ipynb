{
 "cells": [
  {
   "cell_type": "code",
   "execution_count": null,
   "id": "c379cb0a-af6d-4666-bfc8-0369985a0d2f",
   "metadata": {},
   "outputs": [],
   "source": [
    "!pip install denoiser onnx onnxruntime"
   ]
  },
  {
   "cell_type": "code",
   "execution_count": null,
   "id": "1e6dc358-e9d7-434a-91d0-6b931b1f7a17",
   "metadata": {},
   "outputs": [],
   "source": [
    "import torch\n",
    "\n",
    "model = pretrained.dns64().cuda()\n",
    "\n",
    "dummy_input = torch.randn(1, model.chin, 160000).cuda()  # [batch_size, channels, length]\n",
    "\n",
    "onnx_file_path = \"dns64_model.onnx\"\n",
    "with torch.no_grad():\n",
    "    torch.onnx.export(\n",
    "        model,\n",
    "        dummy_input,\n",
    "        onnx_file_path,\n",
    "        export_params=True,\n",
    "        opset_version=13,\n",
    "        do_constant_folding=True,\n",
    "        input_names=[\"input\"],\n",
    "        output_names=[\"output\"],\n",
    "        dynamic_axes={\n",
    "            \"input\": {0: \"batch_size\", 2: \"length\"},\n",
    "            \"output\": {0: \"batch_size\", 2: \"length\"}\n",
    "        }\n",
    "    )\n",
    "\n",
    "print(f\"Model saved to {onnx_file_path}\")"
   ]
  },
  {
   "cell_type": "code",
   "execution_count": null,
   "id": "affc11fe-8482-413c-aba5-93410aa2cf02",
   "metadata": {},
   "outputs": [],
   "source": [
    "import torch\n",
    "\n",
    "model = pretrained.dns48().cuda()\n",
    "\n",
    "dummy_input = torch.randn(1, model.chin, 160000).cuda()  # [batch_size, channels, length]\n",
    "\n",
    "onnx_file_path = \"dns48_model.onnx\"\n",
    "with torch.no_grad():\n",
    "    torch.onnx.export(\n",
    "        model,\n",
    "        dummy_input,\n",
    "        onnx_file_path,\n",
    "        export_params=True,\n",
    "        opset_version=13,\n",
    "        do_constant_folding=True,\n",
    "        input_names=[\"input\"],\n",
    "        output_names=[\"output\"],\n",
    "        dynamic_axes={\n",
    "            \"input\": {0: \"batch_size\", 2: \"length\"},\n",
    "            \"output\": {0: \"batch_size\", 2: \"length\"}\n",
    "        }\n",
    "    )\n",
    "\n",
    "print(f\"Model saved to {onnx_file_path}\")"
   ]
  },
  {
   "cell_type": "code",
   "execution_count": null,
   "id": "77bf6396-4d86-4f6e-b9d3-caaf1833b2ca",
   "metadata": {},
   "outputs": [],
   "source": [
    "model = pretrained.master64().cuda()\n",
    "\n",
    "dummy_input = torch.randn(1, model.chin, 160000).cuda()  # [batch_size, channels, length]\n",
    "\n",
    "onnx_file_path = \"master64_model.onnx\"\n",
    "with torch.no_grad():\n",
    "    torch.onnx.export(\n",
    "        model,\n",
    "        dummy_input,\n",
    "        onnx_file_path,\n",
    "        export_params=True,\n",
    "        opset_version=13,\n",
    "        do_constant_folding=True,\n",
    "        input_names=[\"input\"],\n",
    "        output_names=[\"output\"],\n",
    "        dynamic_axes={\n",
    "            \"input\": {0: \"batch_size\", 2: \"length\"},\n",
    "            \"output\": {0: \"batch_size\", 2: \"length\"}\n",
    "        }\n",
    "    )\n",
    "\n",
    "print(f\"Model saved to {onnx_file_path}\")"
   ]
  },
  {
   "cell_type": "code",
   "execution_count": null,
   "id": "b9cb87e5-73e8-45b4-9145-bc05053642ab",
   "metadata": {},
   "outputs": [],
   "source": [
    "model = pretrained.valentini_nc().cuda()\n",
    "\n",
    "dummy_input = torch.randn(1, model.chin, 160000).cuda()  # [batch_size, channels, length]\n",
    "\n",
    "onnx_file_path = \"valentini_nc_model.onnx\"\n",
    "with torch.no_grad():\n",
    "    torch.onnx.export(\n",
    "        model,\n",
    "        dummy_input,\n",
    "        onnx_file_path,\n",
    "        export_params=True,\n",
    "        opset_version=13,\n",
    "        do_constant_folding=True,\n",
    "        input_names=[\"input\"],\n",
    "        output_names=[\"output\"],\n",
    "        dynamic_axes={\n",
    "            \"input\": {0: \"batch_size\", 2: \"length\"},\n",
    "            \"output\": {0: \"batch_size\", 2: \"length\"}\n",
    "        }\n",
    "    )\n",
    "\n",
    "print(f\"Model saved to {onnx_file_path}\")"
   ]
  },
  {
   "cell_type": "code",
   "execution_count": null,
   "id": "88700f47-28d6-4c87-b021-68481f46f78b",
   "metadata": {},
   "outputs": [],
   "source": []
  }
 ],
 "metadata": {
  "kernelspec": {
   "display_name": "Python 3 (ipykernel)",
   "language": "python",
   "name": "python3"
  },
  "language_info": {
   "codemirror_mode": {
    "name": "ipython",
    "version": 3
   },
   "file_extension": ".py",
   "mimetype": "text/x-python",
   "name": "python",
   "nbconvert_exporter": "python",
   "pygments_lexer": "ipython3",
   "version": "3.11.7"
  }
 },
 "nbformat": 4,
 "nbformat_minor": 5
}
